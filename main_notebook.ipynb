{
 "cells": [
  {
   "cell_type": "code",
   "execution_count": null,
   "id": "30c01c12",
   "metadata": {},
   "outputs": [],
   "source": [
    "# This Python 3 environment comes with many helpful analytics libraries installed\n",
    "# It is defined by the kaggle/python Docker image: https://github.com/kaggle/docker-python\n",
    "# For example, here's several helpful packages to load\n",
    "\n",
    "import numpy as np # linear algebra\n",
    "import pandas as pd # data processing, CSV file I/O (e.g. pd.read_csv)\n",
    "import os\n",
    "from pathlib import Path\n",
    "import seaborn\n",
    "import pyarrow.parquet as pq\n",
    "# Input data files are available in the read-only \"../input/\" directory\n",
    "# For example, running this (by clicking run or pressing Shift+Enter) will list all files under the input directory\n",
    "\n",
    "\n",
    "# for dirname, _, filenames in os.walk('/kaggle/input'):\n",
    "#     for filename in filenames:\n",
    "#         print(os.path.join(dirname, filename))\n",
    "\n",
    "\n",
    "# You can write up to 20GB to the current directory (/kaggle/working/) that gets preserved as output when you create a version using \"Save & Run All\" \n",
    "# You can also write temporary files to /kaggle/temp/, but they won't be saved outside of the current session"
   ]
  },
  {
   "cell_type": "code",
   "execution_count": null,
   "id": "e5e94624",
   "metadata": {},
   "outputs": [],
   "source": [
    "# train_csv_path = Path(\"/kaggle/input/MABe-mouse-behavior-detection/train.csv\")\n",
    "# test_csv_path = Path(\"/kaggle/input/MABe-mouse-behavior-detection/test.csv\")\n",
    "# train=pd.read_csv(train_csv_path)\n",
    "# test=pd.read_csv(test_csv_path) \n"
   ]
  },
  {
   "cell_type": "code",
   "execution_count": null,
   "id": "b378f6c1",
   "metadata": {},
   "outputs": [],
   "source": [
    "from pathlib import Path\n",
    "import pandas as pd\n",
    "import pyarrow.parquet as pq \n",
    "\n",
    "def find_column_headers():\n",
    "# 1. Set root directory\n",
    "    data_dir = Path(\"/kaggle/input/MABe-mouse-behavior-detection\")\n",
    "    parquet_files = list(data_dir.rglob(\"*.parquet\"))\n",
    "\n",
    "# 2. Read only column names (schema) from each file\n",
    "    file_columns = {}\n",
    "    max_cols = 0\n",
    "\n",
    "    for f in parquet_files:\n",
    "    # Construct index: \"grandparent/parent/filename\"\n",
    "        index_str = f.parent.parent.name + \"/\" + f.parent.name + \"/\" + f.name\n",
    "        cols = pq.read_schema(f).names\n",
    "        file_columns[index_str] = cols\n",
    "        max_cols = max(max_cols, len(cols))\n",
    "\n",
    "# 3. Create a DataFrame: rows = files, columns = enumerated column positions\n",
    "    df_cols = pd.DataFrame(index=list(file_columns.keys()), columns=range(max_cols))\n",
    "\n",
    "# 4. Fill DataFrame with column names\n",
    "    for file_stem, cols in file_columns.items():\n",
    "        df_cols.loc[file_stem, :len(cols)-1] = cols\n",
    "\n",
    "# 5. Quick inspection\n",
    "    print(\"Column consistency table (first 10 rows):\")\n",
    "    print(df_cols.head(10))\n",
    "    print(\"Column consistency table (last 10 rows):\")\n",
    "    print(df_cols.tail(10))\n",
    "\n",
    "# 6. Find files with missing or extra columns\n",
    "    files_with_missing_cols = df_cols[df_cols.isnull().any(axis=1)]\n",
    "    print(\"\\nFiles with missing columns:\")\n",
    "    print(files_with_missing_cols)\n",
    "\n",
    "# 7. List all unique column names across all files\n",
    "    unique_columns = pd.unique(df_cols.values.ravel())\n",
    "    unique_columns = [c for c in unique_columns if c is not None]\n",
    "    print(f\"\\nUnique column names across all files ({len(unique_columns)}):\")\n",
    "    print(unique_columns)\n",
    "\n",
    "# 8. Check which column positions have inconsistent names across files\n",
    "    df_t = df_cols.T  # transpose\n",
    "    mask = df_t.nunique() != 1\n",
    "    inconsistent_columns = df_t.loc[:, mask]\n",
    "\n",
    "    print(\"\\nColumn positions with inconsistent names across files:\")\n",
    "    print(inconsistent_columns)\n",
    "\n",
    "# Optional: show which files have inconsistencies in these columns\n",
    "    files_with_inconsistencies = inconsistent_columns[inconsistent_columns.notnull().any(axis=1)]\n",
    "    print(\"\\nFiles with inconsistencies at these column positions:\")\n",
    "    print(files_with_inconsistencies)"
   ]
  },
  {
   "cell_type": "code",
   "execution_count": null,
   "id": "1164f8c4",
   "metadata": {},
   "outputs": [],
   "source": [
    "def combine_df_annotations():\n",
    "    use_dir = Path(\"/kaggle/input/MABe-mouse-behavior-detection/train_annotation\")\n",
    "    parquet_files = list(use_dir.rglob(\"*.parquet\"))\n",
    "    annotations_dfs=[]\n",
    "    for file in parquet_files:\n",
    "        df = pd.read_parquet(file)  # just read it, no index changes\n",
    "        annotations_dfs.append(df)\n",
    "    print(annotations_dfs[0].head())\n"
   ]
  },
  {
   "cell_type": "code",
   "execution_count": null,
   "id": "4cd9157f",
   "metadata": {},
   "outputs": [],
   "source": [
    "def combine_df_tracking():\n",
    "    use_dir = Path(\"/kaggle/input/MABe-mouse-behavior-detection/train_tracking\")\n",
    "    parquet_files = list(use_dir.rglob(\"*.parquet\"))\n",
    "    tracking_dfs=[]\n",
    "    for file in parquet_files:\n",
    "        df = pd.read_parquet(file)  # just read it, no index changes\n",
    "        tracking_dfs.append(df)\n",
    "    print(tracking_dfs[0].head())\n",
    "\n",
    "\n"
   ]
  },
  {
   "cell_type": "code",
   "execution_count": 3,
   "id": "595d6494",
   "metadata": {},
   "outputs": [
    {
     "name": "stdout",
     "output_type": "stream",
     "text": [
      "<map object at 0x106b6d450>\n"
     ]
    }
   ],
   "source": [
    "from pathlib import Path\n",
    "p=Path(\"Data\")\n",
    "print(p.iterdir())"
   ]
  }
 ],
 "metadata": {
  "kernelspec": {
   "display_name": ".venv",
   "language": "python",
   "name": "python3"
  },
  "language_info": {
   "codemirror_mode": {
    "name": "ipython",
    "version": 3
   },
   "file_extension": ".py",
   "mimetype": "text/x-python",
   "name": "python",
   "nbconvert_exporter": "python",
   "pygments_lexer": "ipython3",
   "version": "3.13.7"
  }
 },
 "nbformat": 4,
 "nbformat_minor": 5
}
